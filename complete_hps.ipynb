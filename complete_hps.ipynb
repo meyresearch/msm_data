{
 "cells": [
  {
   "cell_type": "code",
   "execution_count": 3,
   "id": "924cbeaa-a509-47cb-9673-2127b529c136",
   "metadata": {},
   "outputs": [],
   "source": [
    "import h5py\n",
    "import pandas as pd \n",
    "import numpy as np"
   ]
  },
  {
   "cell_type": "code",
   "execution_count": 4,
   "id": "bc3511df-53c6-49b8-981c-1d7a421a9b63",
   "metadata": {},
   "outputs": [],
   "source": [
    "hp_sample = pd.read_hdf('data/hpsample.h5')"
   ]
  },
  {
   "cell_type": "code",
   "execution_count": 5,
   "id": "88ee0ab3",
   "metadata": {},
   "outputs": [],
   "source": [
    "hp_new = hp_sample.reset_index()\n",
    "hp_new['n__boot'] = 20\n",
    "hp_new['seed'] = 49587"
   ]
  },
  {
   "cell_type": "code",
   "execution_count": 6,
   "id": "876e66de",
   "metadata": {},
   "outputs": [],
   "source": [
    "markov_lags = list(range(1, 102, 10))\n",
    "hp_repeated = hp_new.loc[hp_new.index.repeat(11)].reset_index(drop=True)\n",
    "hp_repeated['markov__lag'] = np.tile(markov_lags, len(hp_new))"
   ]
  },
  {
   "cell_type": "code",
   "execution_count": 7,
   "id": "266a320c",
   "metadata": {},
   "outputs": [
    {
     "data": {
      "text/html": [
       "<div>\n",
       "<style scoped>\n",
       "    .dataframe tbody tr th:only-of-type {\n",
       "        vertical-align: middle;\n",
       "    }\n",
       "\n",
       "    .dataframe tbody tr th {\n",
       "        vertical-align: top;\n",
       "    }\n",
       "\n",
       "    .dataframe thead th {\n",
       "        text-align: right;\n",
       "    }\n",
       "</style>\n",
       "<table border=\"1\" class=\"dataframe\">\n",
       "  <thead>\n",
       "    <tr style=\"text-align: right;\">\n",
       "      <th></th>\n",
       "      <th>hp_ix</th>\n",
       "      <th>cluster__max_iter</th>\n",
       "      <th>cluster__stride</th>\n",
       "      <th>tica__dim</th>\n",
       "      <th>tica__lag</th>\n",
       "      <th>tica__kinetic_map</th>\n",
       "      <th>tica__stride</th>\n",
       "      <th>cluster__k</th>\n",
       "      <th>feature__value</th>\n",
       "      <th>dihedrals__which</th>\n",
       "      <th>distances__scheme</th>\n",
       "      <th>distances__transform</th>\n",
       "      <th>distances__steepness</th>\n",
       "      <th>distances__centre</th>\n",
       "      <th>n__boot</th>\n",
       "      <th>seed</th>\n",
       "      <th>markov__lag</th>\n",
       "    </tr>\n",
       "  </thead>\n",
       "  <tbody>\n",
       "    <tr>\n",
       "      <th>0</th>\n",
       "      <td>0</td>\n",
       "      <td>1000</td>\n",
       "      <td>10</td>\n",
       "      <td>19</td>\n",
       "      <td>36</td>\n",
       "      <td>True</td>\n",
       "      <td>1</td>\n",
       "      <td>306</td>\n",
       "      <td>dihedrals</td>\n",
       "      <td>all</td>\n",
       "      <td>NaN</td>\n",
       "      <td>NaN</td>\n",
       "      <td>0.0</td>\n",
       "      <td>0.0</td>\n",
       "      <td>20</td>\n",
       "      <td>49587</td>\n",
       "      <td>1</td>\n",
       "    </tr>\n",
       "    <tr>\n",
       "      <th>1</th>\n",
       "      <td>0</td>\n",
       "      <td>1000</td>\n",
       "      <td>10</td>\n",
       "      <td>19</td>\n",
       "      <td>36</td>\n",
       "      <td>True</td>\n",
       "      <td>1</td>\n",
       "      <td>306</td>\n",
       "      <td>dihedrals</td>\n",
       "      <td>all</td>\n",
       "      <td>NaN</td>\n",
       "      <td>NaN</td>\n",
       "      <td>0.0</td>\n",
       "      <td>0.0</td>\n",
       "      <td>20</td>\n",
       "      <td>49587</td>\n",
       "      <td>11</td>\n",
       "    </tr>\n",
       "    <tr>\n",
       "      <th>2</th>\n",
       "      <td>0</td>\n",
       "      <td>1000</td>\n",
       "      <td>10</td>\n",
       "      <td>19</td>\n",
       "      <td>36</td>\n",
       "      <td>True</td>\n",
       "      <td>1</td>\n",
       "      <td>306</td>\n",
       "      <td>dihedrals</td>\n",
       "      <td>all</td>\n",
       "      <td>NaN</td>\n",
       "      <td>NaN</td>\n",
       "      <td>0.0</td>\n",
       "      <td>0.0</td>\n",
       "      <td>20</td>\n",
       "      <td>49587</td>\n",
       "      <td>21</td>\n",
       "    </tr>\n",
       "    <tr>\n",
       "      <th>3</th>\n",
       "      <td>0</td>\n",
       "      <td>1000</td>\n",
       "      <td>10</td>\n",
       "      <td>19</td>\n",
       "      <td>36</td>\n",
       "      <td>True</td>\n",
       "      <td>1</td>\n",
       "      <td>306</td>\n",
       "      <td>dihedrals</td>\n",
       "      <td>all</td>\n",
       "      <td>NaN</td>\n",
       "      <td>NaN</td>\n",
       "      <td>0.0</td>\n",
       "      <td>0.0</td>\n",
       "      <td>20</td>\n",
       "      <td>49587</td>\n",
       "      <td>31</td>\n",
       "    </tr>\n",
       "    <tr>\n",
       "      <th>4</th>\n",
       "      <td>0</td>\n",
       "      <td>1000</td>\n",
       "      <td>10</td>\n",
       "      <td>19</td>\n",
       "      <td>36</td>\n",
       "      <td>True</td>\n",
       "      <td>1</td>\n",
       "      <td>306</td>\n",
       "      <td>dihedrals</td>\n",
       "      <td>all</td>\n",
       "      <td>NaN</td>\n",
       "      <td>NaN</td>\n",
       "      <td>0.0</td>\n",
       "      <td>0.0</td>\n",
       "      <td>20</td>\n",
       "      <td>49587</td>\n",
       "      <td>41</td>\n",
       "    </tr>\n",
       "  </tbody>\n",
       "</table>\n",
       "</div>"
      ],
      "text/plain": [
       "   hp_ix  cluster__max_iter  cluster__stride  tica__dim  tica__lag  \\\n",
       "0      0               1000               10         19         36   \n",
       "1      0               1000               10         19         36   \n",
       "2      0               1000               10         19         36   \n",
       "3      0               1000               10         19         36   \n",
       "4      0               1000               10         19         36   \n",
       "\n",
       "   tica__kinetic_map  tica__stride  cluster__k feature__value  \\\n",
       "0               True             1         306      dihedrals   \n",
       "1               True             1         306      dihedrals   \n",
       "2               True             1         306      dihedrals   \n",
       "3               True             1         306      dihedrals   \n",
       "4               True             1         306      dihedrals   \n",
       "\n",
       "  dihedrals__which distances__scheme distances__transform  \\\n",
       "0              all               NaN                  NaN   \n",
       "1              all               NaN                  NaN   \n",
       "2              all               NaN                  NaN   \n",
       "3              all               NaN                  NaN   \n",
       "4              all               NaN                  NaN   \n",
       "\n",
       "   distances__steepness  distances__centre  n__boot   seed  markov__lag  \n",
       "0                   0.0                0.0       20  49587            1  \n",
       "1                   0.0                0.0       20  49587           11  \n",
       "2                   0.0                0.0       20  49587           21  \n",
       "3                   0.0                0.0       20  49587           31  \n",
       "4                   0.0                0.0       20  49587           41  "
      ]
     },
     "execution_count": 7,
     "metadata": {},
     "output_type": "execute_result"
    }
   ],
   "source": [
    "hp_repeated.head()"
   ]
  },
  {
   "cell_type": "code",
   "execution_count": 8,
   "id": "1924f36b",
   "metadata": {},
   "outputs": [
    {
     "data": {
      "text/plain": [
       "1540"
      ]
     },
     "execution_count": 8,
     "metadata": {},
     "output_type": "execute_result"
    }
   ],
   "source": [
    "len(hp_repeated)"
   ]
  },
  {
   "cell_type": "code",
   "execution_count": 9,
   "id": "9457ad93",
   "metadata": {},
   "outputs": [
    {
     "data": {
      "text/plain": [
       "Index(['hp_ix', 'cluster__max_iter', 'cluster__stride', 'tica__dim',\n",
       "       'tica__lag', 'tica__kinetic_map', 'tica__stride', 'cluster__k',\n",
       "       'feature__value', 'dihedrals__which', 'distances__scheme',\n",
       "       'distances__transform', 'distances__steepness', 'distances__centre',\n",
       "       'n__boot', 'seed', 'markov__lag'],\n",
       "      dtype='object')"
      ]
     },
     "execution_count": 9,
     "metadata": {},
     "output_type": "execute_result"
    }
   ],
   "source": [
    "hp_repeated.columns"
   ]
  },
  {
   "cell_type": "code",
   "execution_count": 34,
   "id": "e2446ad9",
   "metadata": {},
   "outputs": [
    {
     "name": "stderr",
     "output_type": "stream",
     "text": [
      "/tmp/ipykernel_164879/1968397205.py:1: PerformanceWarning: \n",
      "your performance may suffer as PyTables will pickle object types that it cannot\n",
      "map directly to c-types [inferred_type->mixed,key->block3_values] [items->Index(['feature__value', 'dihedrals__which', 'distances__scheme',\n",
      "       'distances__transform'],\n",
      "      dtype='object')]\n",
      "\n",
      "  hp_repeated.to_hdf('hpsample_full.h5', key='hps')\n"
     ]
    }
   ],
   "source": [
    "hp_repeated.to_hdf('data/hpsample_full.h5', key='hps')"
   ]
  },
  {
   "cell_type": "code",
   "execution_count": 11,
   "id": "dfe86bb7",
   "metadata": {},
   "outputs": [],
   "source": [
    "result = pd.DataFrame()"
   ]
  },
  {
   "cell_type": "code",
   "execution_count": 14,
   "id": "6c6b016c",
   "metadata": {},
   "outputs": [
    {
     "data": {
      "text/html": [
       "<div>\n",
       "<style scoped>\n",
       "    .dataframe tbody tr th:only-of-type {\n",
       "        vertical-align: middle;\n",
       "    }\n",
       "\n",
       "    .dataframe tbody tr th {\n",
       "        vertical-align: top;\n",
       "    }\n",
       "\n",
       "    .dataframe thead th {\n",
       "        text-align: right;\n",
       "    }\n",
       "</style>\n",
       "<table border=\"1\" class=\"dataframe\">\n",
       "  <thead>\n",
       "    <tr style=\"text-align: right;\">\n",
       "      <th></th>\n",
       "      <th>bs</th>\n",
       "    </tr>\n",
       "  </thead>\n",
       "  <tbody>\n",
       "  </tbody>\n",
       "</table>\n",
       "</div>"
      ],
      "text/plain": [
       "Empty DataFrame\n",
       "Columns: [bs]\n",
       "Index: []"
      ]
     },
     "execution_count": 14,
     "metadata": {},
     "output_type": "execute_result"
    }
   ],
   "source": [
    "result"
   ]
  },
  {
   "cell_type": "code",
   "execution_count": 13,
   "id": "ca9fdc3c",
   "metadata": {},
   "outputs": [],
   "source": [
    "result['bs'] = 1"
   ]
  },
  {
   "cell_type": "code",
   "execution_count": 15,
   "id": "dc181337",
   "metadata": {},
   "outputs": [],
   "source": [
    "result['t2'] = 10"
   ]
  },
  {
   "cell_type": "code",
   "execution_count": 16,
   "id": "78cc609a",
   "metadata": {},
   "outputs": [
    {
     "data": {
      "text/html": [
       "<div>\n",
       "<style scoped>\n",
       "    .dataframe tbody tr th:only-of-type {\n",
       "        vertical-align: middle;\n",
       "    }\n",
       "\n",
       "    .dataframe tbody tr th {\n",
       "        vertical-align: top;\n",
       "    }\n",
       "\n",
       "    .dataframe thead th {\n",
       "        text-align: right;\n",
       "    }\n",
       "</style>\n",
       "<table border=\"1\" class=\"dataframe\">\n",
       "  <thead>\n",
       "    <tr style=\"text-align: right;\">\n",
       "      <th></th>\n",
       "      <th>bs</th>\n",
       "      <th>t2</th>\n",
       "    </tr>\n",
       "  </thead>\n",
       "  <tbody>\n",
       "  </tbody>\n",
       "</table>\n",
       "</div>"
      ],
      "text/plain": [
       "Empty DataFrame\n",
       "Columns: [bs, t2]\n",
       "Index: []"
      ]
     },
     "execution_count": 16,
     "metadata": {},
     "output_type": "execute_result"
    }
   ],
   "source": [
    "result"
   ]
  },
  {
   "cell_type": "code",
   "execution_count": 19,
   "id": "a21bbb63",
   "metadata": {},
   "outputs": [],
   "source": [
    "columns = ['bs'] + [f't{i+2}' for i in range(20)]"
   ]
  },
  {
   "cell_type": "code",
   "execution_count": 20,
   "id": "9d143645",
   "metadata": {},
   "outputs": [
    {
     "data": {
      "text/plain": [
       "['bs',\n",
       " 't2',\n",
       " 't3',\n",
       " 't4',\n",
       " 't5',\n",
       " 't6',\n",
       " 't7',\n",
       " 't8',\n",
       " 't9',\n",
       " 't10',\n",
       " 't11',\n",
       " 't12',\n",
       " 't13',\n",
       " 't14',\n",
       " 't15',\n",
       " 't16',\n",
       " 't17',\n",
       " 't18',\n",
       " 't19',\n",
       " 't20',\n",
       " 't21']"
      ]
     },
     "execution_count": 20,
     "metadata": {},
     "output_type": "execute_result"
    }
   ],
   "source": [
    "columns"
   ]
  },
  {
   "cell_type": "code",
   "execution_count": 28,
   "id": "0716325c",
   "metadata": {},
   "outputs": [
    {
     "data": {
      "text/html": [
       "<div>\n",
       "<style scoped>\n",
       "    .dataframe tbody tr th:only-of-type {\n",
       "        vertical-align: middle;\n",
       "    }\n",
       "\n",
       "    .dataframe tbody tr th {\n",
       "        vertical-align: top;\n",
       "    }\n",
       "\n",
       "    .dataframe thead th {\n",
       "        text-align: right;\n",
       "    }\n",
       "</style>\n",
       "<table border=\"1\" class=\"dataframe\">\n",
       "  <thead>\n",
       "    <tr style=\"text-align: right;\">\n",
       "      <th></th>\n",
       "      <th>bs</th>\n",
       "      <th>t2</th>\n",
       "      <th>t3</th>\n",
       "      <th>t4</th>\n",
       "      <th>t5</th>\n",
       "      <th>t6</th>\n",
       "      <th>t7</th>\n",
       "      <th>t8</th>\n",
       "      <th>t9</th>\n",
       "      <th>t10</th>\n",
       "      <th>...</th>\n",
       "      <th>t12</th>\n",
       "      <th>t13</th>\n",
       "      <th>t14</th>\n",
       "      <th>t15</th>\n",
       "      <th>t16</th>\n",
       "      <th>t17</th>\n",
       "      <th>t18</th>\n",
       "      <th>t19</th>\n",
       "      <th>t20</th>\n",
       "      <th>t21</th>\n",
       "    </tr>\n",
       "  </thead>\n",
       "  <tbody>\n",
       "    <tr>\n",
       "      <th>0</th>\n",
       "      <td>0</td>\n",
       "      <td>1</td>\n",
       "      <td>2</td>\n",
       "      <td>3</td>\n",
       "      <td>4</td>\n",
       "      <td>5</td>\n",
       "      <td>6</td>\n",
       "      <td>7</td>\n",
       "      <td>8</td>\n",
       "      <td>9</td>\n",
       "      <td>...</td>\n",
       "      <td>11</td>\n",
       "      <td>12</td>\n",
       "      <td>13</td>\n",
       "      <td>14</td>\n",
       "      <td>15</td>\n",
       "      <td>16</td>\n",
       "      <td>17</td>\n",
       "      <td>18</td>\n",
       "      <td>19</td>\n",
       "      <td>20</td>\n",
       "    </tr>\n",
       "  </tbody>\n",
       "</table>\n",
       "<p>1 rows × 21 columns</p>\n",
       "</div>"
      ],
      "text/plain": [
       "   bs  t2  t3  t4  t5  t6  t7  t8  t9  t10  ...  t12  t13  t14  t15  t16  t17  \\\n",
       "0   0   1   2   3   4   5   6   7   8    9  ...   11   12   13   14   15   16   \n",
       "\n",
       "   t18  t19  t20  t21  \n",
       "0   17   18   19   20  \n",
       "\n",
       "[1 rows x 21 columns]"
      ]
     },
     "execution_count": 28,
     "metadata": {},
     "output_type": "execute_result"
    }
   ],
   "source": [
    "pd.DataFrame(dictpd,index=[0])"
   ]
  },
  {
   "cell_type": "code",
   "execution_count": 25,
   "id": "e91473df",
   "metadata": {},
   "outputs": [],
   "source": [
    "data = list(range(21))\n",
    "dictpd = {k:v for k,v in zip(columns, data)}"
   ]
  },
  {
   "cell_type": "code",
   "execution_count": 29,
   "id": "fb98f0fe",
   "metadata": {},
   "outputs": [
    {
     "data": {
      "text/html": [
       "<div>\n",
       "<style scoped>\n",
       "    .dataframe tbody tr th:only-of-type {\n",
       "        vertical-align: middle;\n",
       "    }\n",
       "\n",
       "    .dataframe tbody tr th {\n",
       "        vertical-align: top;\n",
       "    }\n",
       "\n",
       "    .dataframe thead th {\n",
       "        text-align: right;\n",
       "    }\n",
       "</style>\n",
       "<table border=\"1\" class=\"dataframe\">\n",
       "  <thead>\n",
       "    <tr style=\"text-align: right;\">\n",
       "      <th></th>\n",
       "      <th>bs</th>\n",
       "      <th>t2</th>\n",
       "      <th>t3</th>\n",
       "      <th>t4</th>\n",
       "      <th>t5</th>\n",
       "      <th>t6</th>\n",
       "      <th>t7</th>\n",
       "      <th>t8</th>\n",
       "      <th>t9</th>\n",
       "      <th>t10</th>\n",
       "      <th>...</th>\n",
       "      <th>t12</th>\n",
       "      <th>t13</th>\n",
       "      <th>t14</th>\n",
       "      <th>t15</th>\n",
       "      <th>t16</th>\n",
       "      <th>t17</th>\n",
       "      <th>t18</th>\n",
       "      <th>t19</th>\n",
       "      <th>t20</th>\n",
       "      <th>t21</th>\n",
       "    </tr>\n",
       "  </thead>\n",
       "  <tbody>\n",
       "    <tr>\n",
       "      <th>0</th>\n",
       "      <td>0</td>\n",
       "      <td>1</td>\n",
       "      <td>2</td>\n",
       "      <td>3</td>\n",
       "      <td>4</td>\n",
       "      <td>5</td>\n",
       "      <td>6</td>\n",
       "      <td>7</td>\n",
       "      <td>8</td>\n",
       "      <td>9</td>\n",
       "      <td>...</td>\n",
       "      <td>11</td>\n",
       "      <td>12</td>\n",
       "      <td>13</td>\n",
       "      <td>14</td>\n",
       "      <td>15</td>\n",
       "      <td>16</td>\n",
       "      <td>17</td>\n",
       "      <td>18</td>\n",
       "      <td>19</td>\n",
       "      <td>20</td>\n",
       "    </tr>\n",
       "  </tbody>\n",
       "</table>\n",
       "<p>1 rows × 21 columns</p>\n",
       "</div>"
      ],
      "text/plain": [
       "   bs  t2  t3  t4  t5  t6  t7  t8  t9  t10  ...  t12  t13  t14  t15  t16  t17  \\\n",
       "0   0   1   2   3   4   5   6   7   8    9  ...   11   12   13   14   15   16   \n",
       "\n",
       "   t18  t19  t20  t21  \n",
       "0   17   18   19   20  \n",
       "\n",
       "[1 rows x 21 columns]"
      ]
     },
     "execution_count": 29,
     "metadata": {},
     "output_type": "execute_result"
    }
   ],
   "source": [
    "pd.DataFrame({k:v for k,v in zip(columns, data)}, index=[0])"
   ]
  }
 ],
 "metadata": {
  "kernelspec": {
   "display_name": "Python 3 (ipykernel)",
   "language": "python",
   "name": "python3"
  },
  "language_info": {
   "codemirror_mode": {
    "name": "ipython",
    "version": 3
   },
   "file_extension": ".py",
   "mimetype": "text/x-python",
   "name": "python",
   "nbconvert_exporter": "python",
   "pygments_lexer": "ipython3",
   "version": "3.10.0"
  }
 },
 "nbformat": 4,
 "nbformat_minor": 5
}
